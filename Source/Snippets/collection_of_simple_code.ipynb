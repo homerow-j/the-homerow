{
 "cells": [
  {
   "cell_type": "markdown",
   "id": "f1bab0d6-b589-4755-9008-55f310efaa67",
   "metadata": {},
   "source": [
    "# A Collection of Simple Code"
   ]
  },
  {
   "cell_type": "markdown",
   "id": "786f7178-ece3-4736-a94c-c57d7d0e9a62",
   "metadata": {},
   "source": [
    "## Password Generation\n",
    "\n",
    "Python comes with the `secrets` module which is a random generator suited for cryptology versus the standard `random` module which is better suited for modelling and statistics.\n",
    "\n",
    "The number in the argument is the how many ('len'gth in convoluted speak) characters are generated. I picked `2096` for a large pool. Then randomly select a group of chars with the mouse and copy. No need for a bloated, resource heavy, password programand it introduces the randomness of a person which is not so easy for computers to calculate."
   ]
  },
  {
   "cell_type": "code",
   "execution_count": null,
   "id": "7fe33c70-1ac7-42ba-8a3d-6c1db7a6f58d",
   "metadata": {},
   "outputs": [],
   "source": [
    "import secrets\n",
    "\n",
    "secrets_output = secrets.token_hex(2096)\n",
    "print(secrets_output)"
   ]
  }
 ],
 "metadata": {
  "kernelspec": {
   "display_name": "Python 3 (ipykernel)",
   "language": "python",
   "name": "python3"
  },
  "language_info": {
   "codemirror_mode": {
    "name": "ipython",
    "version": 3
   },
   "file_extension": ".py",
   "mimetype": "text/x-python",
   "name": "python",
   "nbconvert_exporter": "python",
   "pygments_lexer": "ipython3",
   "version": "3.12.2"
  }
 },
 "nbformat": 4,
 "nbformat_minor": 5
}
