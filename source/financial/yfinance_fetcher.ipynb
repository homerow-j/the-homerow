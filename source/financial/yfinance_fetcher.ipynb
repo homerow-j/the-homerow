{
 "cells": [
  {
   "cell_type": "markdown",
   "id": "63177298-41e3-4868-8e19-b7d71c4f78a6",
   "metadata": {},
   "source": [
    "# yfinance Fetcher Version 2.0\n",
    "\n",
    "_A simple notebook for fetching market data from `yfinance`, simply._\n",
    "\n"
   ]
  },
  {
   "cell_type": "markdown",
   "id": "edb28c63-7efe-46f0-828a-53e1270949f3",
   "metadata": {},
   "source": [
    "## Market Data Fetches"
   ]
  },
  {
   "cell_type": "markdown",
   "id": "860e27f4-d5d5-4506-8d6d-a83430dd85ee",
   "metadata": {},
   "source": [
    "### Initialization\n",
    "\n",
    "This is needed by the _Offset Fetch_, _Date Range Fetch_ and _A Collection of Financial Fetches_ while also making sure there is a `csv` directory to export _.csv_ files into. The `Ticker` input below is for both the _Offset_ and _Date Range_ fetches."
   ]
  },
  {
   "cell_type": "code",
   "execution_count": null,
   "id": "23b51a09-922b-4da7-8aee-4c78e1171c3e",
   "metadata": {},
   "outputs": [],
   "source": [
    "import os\n",
    "import pandas as pd\n",
    "import yfinance as yf\n",
    "\n",
    "# =============================================================================\n",
    "# Timestamp\n",
    "# =============================================================================\n",
    "c_datetime = pd.to_datetime('today')\n",
    "c_date = c_datetime.date()\n",
    "\n",
    "# =============================================================================\n",
    "# Make csv dir to store exports if it does not exist\n",
    "# =============================================================================\n",
    "if not os.path.isdir(\"csv\"):\n",
    "    os.makedirs(\"csv\")"
   ]
  },
  {
   "cell_type": "markdown",
   "id": "4f123a87-d037-46dc-bcc9-d705d46c88ee",
   "metadata": {},
   "source": [
    "#### Tickers\n",
    "Note: they have to be capitalized and each ticker seperated by a `,` and a space (i.e. `IBM, NVDA, AAPL` ...)."
   ]
  },
  {
   "cell_type": "code",
   "execution_count": null,
   "id": "21379e0c-5c12-4136-9420-30a35c571e5a",
   "metadata": {},
   "outputs": [],
   "source": [
    "symbols = str(input(\"Ticker: \"))"
   ]
  },
  {
   "cell_type": "markdown",
   "id": "315a730d-889e-4014-937f-e8c1f08669ed",
   "metadata": {},
   "source": [
    "### Period And Interval Input For The _Offset Fetch_ Section"
   ]
  },
  {
   "cell_type": "markdown",
   "id": "2e091b53-2dae-4546-ac9b-323b4c84c75a",
   "metadata": {},
   "source": [
    "#### Period\n",
    "\n",
    "Accepted values are: `1d`, `5d`, `1mo`, `3mo`, `6mo`, `1y`, `2y`, `5y`, `10y`, `ytd`, `max_`."
   ]
  },
  {
   "cell_type": "code",
   "execution_count": null,
   "id": "2e460a8f-2ec9-43df-967b-7d7562819513",
   "metadata": {},
   "outputs": [],
   "source": [
    "period = str(input(\"Time Period: \"))"
   ]
  },
  {
   "cell_type": "markdown",
   "id": "fc0e5c6a-fa50-4890-817c-6bc1c4ac5e13",
   "metadata": {},
   "source": [
    "#### Interval\n",
    "Accepted values are: `1m`, `2m`, `5m`, `15m`, `30m`, `60m`, `90m`, `1h`, `1d`, `5d`, `1wk`, `1mo`, `3mo_`. _Intraday data cannot extend past the last 60 days_."
   ]
  },
  {
   "cell_type": "code",
   "execution_count": null,
   "id": "983aa55a-ff29-424b-9220-519cdab3cd99",
   "metadata": {},
   "outputs": [],
   "source": [
    "interval = str(input(\"Interval: \"))"
   ]
  },
  {
   "cell_type": "markdown",
   "id": "b5daea09-b6a8-4ebd-a4ba-a7ae7f8e2c7f",
   "metadata": {},
   "source": [
    "## Offset Fetch"
   ]
  },
  {
   "cell_type": "code",
   "execution_count": null,
   "id": "8e56bb25-861d-482a-bf42-3a28d5fcc0df",
   "metadata": {
    "editable": true,
    "slideshow": {
     "slide_type": ""
    },
    "tags": []
   },
   "outputs": [],
   "source": [
    "# =============================================================================\n",
    "# OHLC + Volumme Price Data\n",
    "# =============================================================================\n",
    "ds_df_index = yf.download(f\"{symbols}\", group_by='ticker',\n",
    "                          period=f\"{period}\", interval=f\"{interval}\",\n",
    "                          rounding=True)"
   ]
  },
  {
   "cell_type": "markdown",
   "id": "5b01f671-1ebb-4013-9803-ee96788ff711",
   "metadata": {},
   "source": [
    "### Date Input For The _Date Range_ Section"
   ]
  },
  {
   "cell_type": "markdown",
   "id": "f2aff93c-4205-4362-8680-536b41ffb6c0",
   "metadata": {},
   "source": [
    "#### Start Date\n",
    "It has to be in ISO format. January, 30, 2025 becomes 2025-01-30 (_YY-MM-DD_)."
   ]
  },
  {
   "cell_type": "code",
   "execution_count": null,
   "id": "81e5d0bd-4f65-453d-b13f-29c5ba87f26a",
   "metadata": {},
   "outputs": [],
   "source": [
    "s_date = (input((\"Start Date: \")))"
   ]
  },
  {
   "cell_type": "markdown",
   "id": "ec96380c-c2cd-47e7-a98f-d4a41cf1befd",
   "metadata": {},
   "source": [
    "#### End Date"
   ]
  },
  {
   "cell_type": "code",
   "execution_count": null,
   "id": "0f7e36cd-3967-4509-842f-6b7d197f5c93",
   "metadata": {},
   "outputs": [],
   "source": [
    "e_date = (input(\"End Date: \"))"
   ]
  },
  {
   "cell_type": "markdown",
   "id": "4189a177-2732-4332-b7dc-846757162f26",
   "metadata": {},
   "source": [
    "## Date Range Fetch"
   ]
  },
  {
   "cell_type": "code",
   "execution_count": null,
   "id": "dea5de0f-ca8f-466a-8538-30f5e3d95c08",
   "metadata": {},
   "outputs": [],
   "source": [
    "s_date = '2000-01-01'\n",
    "e_date = '2025-01-01'\n",
    "\n",
    "ds_df_index = yf.download(f\"{symbols\"}, group_by='ticker', start=f\"{s_date}\", \n",
    "                          end=f\"{e_date}\", rounding=True)"
   ]
  },
  {
   "cell_type": "markdown",
   "id": "970bd143-be76-45d2-8d8a-c7f042317898",
   "metadata": {},
   "source": [
    "#### Clean tickers to be file name friendly"
   ]
  },
  {
   "cell_type": "code",
   "execution_count": null,
   "id": "62b7a5e1-c4ab-429b-89c8-555afca3980a",
   "metadata": {},
   "outputs": [],
   "source": [
    "ft = '-'.join(symbols)"
   ]
  },
  {
   "cell_type": "markdown",
   "id": "017647e8-2462-4a80-8a17-4f1ca3c58f58",
   "metadata": {},
   "source": [
    "#### Export Offset Or Date Range Fetches"
   ]
  },
  {
   "cell_type": "code",
   "execution_count": null,
   "id": "316215a7-6c6c-4a77-9745-204f69da77cf",
   "metadata": {},
   "outputs": [],
   "source": [
    "ds_df_index.to_csv(\n",
    "    f\"csv/{ft}_{period}_{interval}_from_{c_datetime}.csv\")"
   ]
  },
  {
   "cell_type": "markdown",
   "id": "3b13d9d2-ca90-4a29-99a7-24767f868b8f",
   "metadata": {},
   "source": [
    "## A Collection of Financial Fetches"
   ]
  },
  {
   "cell_type": "markdown",
   "id": "69ea6c9f-e7f2-4cae-8eb4-ca22b30681e8",
   "metadata": {},
   "source": [
    "### Single Ticker"
   ]
  },
  {
   "cell_type": "markdown",
   "id": "7422076d-3bc7-42f3-ab3f-f9c0741ac148",
   "metadata": {},
   "source": [
    "#### Single Ticker Input"
   ]
  },
  {
   "cell_type": "code",
   "execution_count": null,
   "id": "14958b65-bc98-486a-a263-015db7e2efff",
   "metadata": {},
   "outputs": [],
   "source": [
    "s_symbol = (str(input(\"Single Ticker: \")))"
   ]
  },
  {
   "cell_type": "markdown",
   "id": "97142cc7-20e3-4ddb-a05b-7fef37bb5d09",
   "metadata": {},
   "source": [
    "#### Single Funds Ticker Input"
   ]
  },
  {
   "cell_type": "code",
   "execution_count": null,
   "id": "54a05ae0-7871-4926-9861-349ac11bdc66",
   "metadata": {},
   "outputs": [],
   "source": [
    "f_symbol = (str(input(\"Single Funds Ticker: \")))"
   ]
  },
  {
   "cell_type": "markdown",
   "id": "d0f1d33d-7dd8-4f60-8229-6591694fe6c3",
   "metadata": {},
   "source": [
    "#### Single Ticker Fetch"
   ]
  },
  {
   "cell_type": "code",
   "execution_count": null,
   "id": "c2390f98-45a8-4ea8-a7da-934639d140e0",
   "metadata": {},
   "outputs": [],
   "source": [
    "df_stat_f = yf.Ticker(f\"{f_symbols}\")\n",
    "df_stat = yf.Ticker(f\"{s_symbol}\")"
   ]
  },
  {
   "cell_type": "markdown",
   "id": "50756b7c-34bb-42b5-a1e8-4c230f39c2e0",
   "metadata": {},
   "source": [
    "### Multiple Ticker"
   ]
  },
  {
   "cell_type": "markdown",
   "id": "c9379998-8caa-4092-b302-8c8f9195756d",
   "metadata": {},
   "source": [
    "\n",
    "#### Multiple Tickers Input"
   ]
  },
  {
   "cell_type": "code",
   "execution_count": null,
   "id": "57db9886-6312-45ce-9c48-f0ee3d1b0d2d",
   "metadata": {},
   "outputs": [],
   "source": [
    "s_symbols = (str(input(\"Multiple Tickers: \")))"
   ]
  },
  {
   "cell_type": "markdown",
   "id": "98f3d2d0-f93e-4dca-a4e3-3f082e0723ac",
   "metadata": {},
   "source": [
    "#### Multiple Funds Input"
   ]
  },
  {
   "cell_type": "code",
   "execution_count": null,
   "id": "704ccf03-e06a-4ac1-bcee-29a500602f13",
   "metadata": {},
   "outputs": [],
   "source": [
    "f_symbols = (str(input(\"Multiple Fund Tickers: \")))"
   ]
  },
  {
   "cell_type": "markdown",
   "id": "1c6490b5-1881-4aaa-b5bf-b21cefe2f6b1",
   "metadata": {},
   "source": [
    "#### Ticker Fetch"
   ]
  },
  {
   "cell_type": "code",
   "execution_count": null,
   "id": "0974612c-de8e-4c1e-a3fd-70b805a68eb2",
   "metadata": {},
   "outputs": [],
   "source": [
    "df_stat_f = yf.Tickers(f\"{f_symbols}\")\n",
    "df_stat = yf.Tickers(f\"{s_symbol}\")"
   ]
  },
  {
   "cell_type": "markdown",
   "id": "7618d935-2df9-4d59-94e5-b73f0afabe02",
   "metadata": {},
   "source": [
    "#### Clean tickers to be file name friendly"
   ]
  },
  {
   "cell_type": "code",
   "execution_count": null,
   "id": "c0645f32-ee0f-4eca-add1-b182ab9d3a5c",
   "metadata": {},
   "outputs": [],
   "source": [
    "cfft = '-'.join(f_symbols)\n",
    "cft = '-'.join(s_symbol)"
   ]
  },
  {
   "cell_type": "markdown",
   "id": "bbe26654-e96c-4588-9ae8-9aa0ff57d546",
   "metadata": {},
   "source": [
    "### Info"
   ]
  },
  {
   "cell_type": "code",
   "execution_count": null,
   "id": "014d7093-36e8-4044-ab47-028a475a5a61",
   "metadata": {},
   "outputs": [],
   "source": [
    "df_stat_i = df_stat.info"
   ]
  },
  {
   "cell_type": "markdown",
   "id": "b70befdf-8031-429a-9ef3-0e28d193c61e",
   "metadata": {},
   "source": [
    "#### Export Info"
   ]
  },
  {
   "cell_type": "code",
   "execution_count": null,
   "id": "8420f2ca-a7b5-4c93-aee9-0b68270425de",
   "metadata": {},
   "outputs": [],
   "source": [
    "df_stat_i.to_csv(f\"csv/{cft}-info-{c_datetime}.csv\")"
   ]
  },
  {
   "cell_type": "markdown",
   "id": "fe3e9f53-4db5-4253-a701-60d3b54fe837",
   "metadata": {},
   "source": [
    "### ISIN (International Securities Identification Number)"
   ]
  },
  {
   "cell_type": "code",
   "execution_count": null,
   "id": "c34e225e-5d93-4337-8019-2f85f0b49575",
   "metadata": {},
   "outputs": [],
   "source": [
    "df_stat_isin = df_stat.isin"
   ]
  },
  {
   "cell_type": "markdown",
   "id": "65ee514d-293a-4e67-9d17-129b0abbe482",
   "metadata": {},
   "source": [
    "#### Export ISIN (International Securities Identification Number)"
   ]
  },
  {
   "cell_type": "code",
   "execution_count": null,
   "id": "85736d72-9af5-4fe4-9384-c08bb08c426f",
   "metadata": {},
   "outputs": [],
   "source": [
    "df_stat_isin.to_csv(f\"csv/{cft}-isin-{c_datetime}.csv\")"
   ]
  },
  {
   "cell_type": "markdown",
   "id": "e401c43c-f5b0-4ad2-a3b2-6e775385ce83",
   "metadata": {},
   "source": [
    "### Analyst Price Targets"
   ]
  },
  {
   "cell_type": "code",
   "execution_count": null,
   "id": "c7ce690f-ca93-4d1d-a061-e742e0b91825",
   "metadata": {},
   "outputs": [],
   "source": [
    "df_stat_apt = df_stat.analyst_price_targets"
   ]
  },
  {
   "cell_type": "markdown",
   "id": "aed84082-6a21-4715-ae18-e4c2951088e8",
   "metadata": {},
   "source": [
    "#### Export Analyst Price Targets"
   ]
  },
  {
   "cell_type": "code",
   "execution_count": null,
   "id": "ac4ebc3b-4c05-4d3b-9a3c-ad98f97fecd5",
   "metadata": {},
   "outputs": [],
   "source": [
    "df_stat_apt.to_csv(f\"csv/{cft}-analyst_price_targets-{c_datetime}.csv\")"
   ]
  },
  {
   "cell_type": "markdown",
   "id": "4b2ef473-9537-491a-8caa-2fcf358938ac",
   "metadata": {},
   "source": [
    "### Calendar"
   ]
  },
  {
   "cell_type": "code",
   "execution_count": null,
   "id": "3dbcbf55-6d4d-4c28-9ca0-78c72f07d3ff",
   "metadata": {},
   "outputs": [],
   "source": [
    "df_stat_cal = df_stat.calendar"
   ]
  },
  {
   "cell_type": "markdown",
   "id": "6f1cf8c7-d075-4aae-8f24-8ace57318d82",
   "metadata": {},
   "source": [
    "#### Export Calendar"
   ]
  },
  {
   "cell_type": "code",
   "execution_count": null,
   "id": "827d9337-aa50-4705-90ab-c658ecfb4449",
   "metadata": {},
   "outputs": [],
   "source": [
    "df_stat_cal.to_csv(f\"csv/{cft}-cal-{c_datetime}.csv\")"
   ]
  },
  {
   "cell_type": "markdown",
   "id": "31bec8a2-c34f-42de-bf7f-b2d16d19bde8",
   "metadata": {},
   "source": [
    "### Financials"
   ]
  },
  {
   "cell_type": "code",
   "execution_count": null,
   "id": "7fe9a223-82c2-47ee-80dd-330f013d269b",
   "metadata": {},
   "outputs": [],
   "source": [
    "df_stat_fin = df_stat.financials"
   ]
  },
  {
   "cell_type": "markdown",
   "id": "7bb62136-8173-4fc4-bce4-6ad1e35556f4",
   "metadata": {},
   "source": [
    "#### Export Financials"
   ]
  },
  {
   "cell_type": "code",
   "execution_count": null,
   "id": "5bb86417-a6b7-4e8d-aa6d-88e3951b48ab",
   "metadata": {},
   "outputs": [],
   "source": [
    "df_stat_fin.to_csv(f\"csv/{cft}-financials-{c_datetime}.csv\")"
   ]
  },
  {
   "cell_type": "markdown",
   "id": "89b9912e-37b1-4ce7-862f-0d1b394782f3",
   "metadata": {},
   "source": [
    "### Balance Sheet"
   ]
  },
  {
   "cell_type": "code",
   "execution_count": null,
   "id": "c53aed42-43ca-48b0-a4ad-8b88761e31f4",
   "metadata": {},
   "outputs": [],
   "source": [
    "df_stat_bs = df_stat.balance_sheet"
   ]
  },
  {
   "cell_type": "markdown",
   "id": "67bc77b2-1a11-4c56-9563-843574969fb9",
   "metadata": {},
   "source": [
    "#### Export Balance Sheet"
   ]
  },
  {
   "cell_type": "code",
   "execution_count": null,
   "id": "be45ce7d-61e4-4fad-816c-b3081b35c6ea",
   "metadata": {},
   "outputs": [],
   "source": [
    "df_stat_bs.to_csv(f\"csv/{cft}-balance_sheet-{c_datetime}.csv\")"
   ]
  },
  {
   "cell_type": "markdown",
   "id": "00c5b0d8-c375-4e4d-8375-d04028ed156d",
   "metadata": {},
   "source": [
    "### Income Statement"
   ]
  },
  {
   "cell_type": "code",
   "execution_count": null,
   "id": "9b37eb18-c1d8-43c1-870c-123fa2103d37",
   "metadata": {},
   "outputs": [],
   "source": [
    "df_stat_stmt = df_stat.income_stmt"
   ]
  },
  {
   "cell_type": "markdown",
   "id": "a9303333-0fa6-409d-aa3e-7414d3eb1695",
   "metadata": {},
   "source": [
    "#### Export Income Statement"
   ]
  },
  {
   "cell_type": "code",
   "execution_count": null,
   "id": "a9325a31-7626-475a-bf1c-058781cf9aaf",
   "metadata": {},
   "outputs": [],
   "source": [
    "df_stat_stmt.to_csv(f\"csv/{cft}-income_statement-{c_datetime}.csv\")"
   ]
  },
  {
   "cell_type": "markdown",
   "id": "b7dbfad7-a583-45d9-a9f9-e7b16dfee342",
   "metadata": {},
   "source": [
    "### Cash Flow"
   ]
  },
  {
   "cell_type": "code",
   "execution_count": null,
   "id": "4ca2b568-d114-4c17-87cd-50699cc2637b",
   "metadata": {},
   "outputs": [],
   "source": [
    "df_stat_cf = df_stat.cash_flow"
   ]
  },
  {
   "cell_type": "markdown",
   "id": "1d75698b-c042-443d-a208-756b0e09cf5d",
   "metadata": {},
   "source": [
    "#### Export Cash Flow"
   ]
  },
  {
   "cell_type": "code",
   "execution_count": null,
   "id": "a77b2507-f64b-48e8-9933-e30fae78dd1a",
   "metadata": {},
   "outputs": [],
   "source": [
    "df_stat_cf.to_csv(f\"csv/{cft}-cash_flow-{c_datetime}.csv\")"
   ]
  },
  {
   "cell_type": "markdown",
   "id": "6cd09143-80a2-496f-85a9-a5785a23cb5f",
   "metadata": {},
   "source": [
    "### EPS Revisions"
   ]
  },
  {
   "cell_type": "code",
   "execution_count": null,
   "id": "6132b298-9a59-4df8-973a-398540ef9f0e",
   "metadata": {},
   "outputs": [],
   "source": [
    "df_stat_e_rv = df_stat.eps_revisions"
   ]
  },
  {
   "cell_type": "markdown",
   "id": "c6995ecf-03a4-4a87-830f-07322e1d1a9a",
   "metadata": {},
   "source": [
    "#### Export EPS Revisions"
   ]
  },
  {
   "cell_type": "code",
   "execution_count": null,
   "id": "d28d98a4-8705-436c-a5fd-c06db0c51cd2",
   "metadata": {},
   "outputs": [],
   "source": [
    "df_stat_e_rv.to_csv(f\"csv/{cft}-eps_revisions-{c_datetime}.csv\")"
   ]
  },
  {
   "cell_type": "markdown",
   "id": "97d30234-9aa4-4dad-9d1c-8783eeedb149",
   "metadata": {},
   "source": [
    "### EPS Trend"
   ]
  },
  {
   "cell_type": "code",
   "execution_count": null,
   "id": "93f20b9e-0240-4610-9746-f7d1a01075e2",
   "metadata": {},
   "outputs": [],
   "source": [
    "df_stat_et = df_stat.eps_trend"
   ]
  },
  {
   "cell_type": "markdown",
   "id": "0a5d3825-1462-4d76-b39f-0d21e9db075d",
   "metadata": {},
   "source": [
    "#### Export EPS Trend"
   ]
  },
  {
   "cell_type": "code",
   "execution_count": null,
   "id": "e8fcef9b-8b70-43e9-b44d-8ad9aa320719",
   "metadata": {},
   "outputs": [],
   "source": [
    "df_stat_et.to_csv(f\"csv/{cft}-eps_trend-{c_datetime}.csv\")"
   ]
  },
  {
   "cell_type": "markdown",
   "id": "0bc7ad08-e70b-4d00-98ff-57ae66c4468d",
   "metadata": {},
   "source": [
    "### SEC Filings"
   ]
  },
  {
   "cell_type": "code",
   "execution_count": null,
   "id": "3da5ddf0-487c-4cf2-9d38-895d67c5d762",
   "metadata": {},
   "outputs": [],
   "source": [
    "df_stat_sf = df_stat.sec_filings"
   ]
  },
  {
   "cell_type": "markdown",
   "id": "a49b69d5-b015-4f59-b739-03216391f206",
   "metadata": {},
   "source": [
    "#### Export SEC Filings"
   ]
  },
  {
   "cell_type": "code",
   "execution_count": null,
   "id": "2b8cf4c7-6bca-41ae-a70d-33c2f2d9e401",
   "metadata": {},
   "outputs": [],
   "source": [
    "df_stat_sf.to_csv(f\"csv/{cft}-sec_filings-{c_datetime}.csv\")"
   ]
  },
  {
   "cell_type": "markdown",
   "id": "476db2aa-9a41-49e5-a1f1-bb3f4fc109c9",
   "metadata": {},
   "source": [
    "### Insider Transactions"
   ]
  },
  {
   "cell_type": "code",
   "execution_count": null,
   "id": "c8edea47-7480-4a62-a059-2eadefae4bd0",
   "metadata": {},
   "outputs": [],
   "source": [
    "df_stat_ins_t = df_stat.insider_transactions"
   ]
  },
  {
   "cell_type": "markdown",
   "id": "c4edfc49-3b6a-4004-aaf7-624b0a7662ae",
   "metadata": {},
   "source": [
    "#### Export Insider Transactions"
   ]
  },
  {
   "cell_type": "code",
   "execution_count": null,
   "id": "d6e4e7f1-a779-4608-9e3f-6eb9729f18bc",
   "metadata": {},
   "outputs": [],
   "source": [
    "df_stat_ins_t.to_csv(f\"csv/{cft}-insider_transactions-{c_datetime}.csv\")"
   ]
  },
  {
   "cell_type": "markdown",
   "id": "59266c25-2210-48ed-a619-60a4df3e921d",
   "metadata": {},
   "source": [
    "### Insider Roster Holders"
   ]
  },
  {
   "cell_type": "code",
   "execution_count": null,
   "id": "ebe9fb2e-fecc-4e85-88ef-27b351bf5658",
   "metadata": {},
   "outputs": [],
   "source": [
    "df_stat_irh = df_stat.insider_roster_holders"
   ]
  },
  {
   "cell_type": "markdown",
   "id": "82b66bdf-7480-4461-927b-6cb8085347d8",
   "metadata": {},
   "source": [
    "#### Export Roster Holders"
   ]
  },
  {
   "cell_type": "code",
   "execution_count": null,
   "id": "9df6d714-98e2-42ef-9d2b-325dbb95be11",
   "metadata": {},
   "outputs": [],
   "source": [
    "df_stat_rh.to_csv(f\"csv/{cft}-inside_roster_holders-{c_datetime}.csv\")"
   ]
  },
  {
   "cell_type": "markdown",
   "id": "291b0a09-8e7c-40e3-bd2c-1ad34abbf97a",
   "metadata": {},
   "source": [
    "### Insider Purchases"
   ]
  },
  {
   "cell_type": "code",
   "execution_count": null,
   "id": "3cfafa76-c9e5-4239-b479-a0a99134101a",
   "metadata": {},
   "outputs": [],
   "source": [
    "df_stat_ins_p = df_stat.insider_purchases"
   ]
  },
  {
   "cell_type": "markdown",
   "id": "a5f24d02-fa28-4ccb-8044-a886c0a3e8fa",
   "metadata": {},
   "source": [
    "#### Export Insider Purchases"
   ]
  },
  {
   "cell_type": "code",
   "execution_count": null,
   "id": "233d4b40-719d-4e44-94f5-d77720c4dd75",
   "metadata": {},
   "outputs": [],
   "source": [
    "df_stat_ins_p.to_csv(f\"csv/{cft}-insider_purchases-{c_datetime}.csv\")"
   ]
  },
  {
   "cell_type": "markdown",
   "id": "aeae5310-a3ba-4098-9a33-d14ce3708306",
   "metadata": {},
   "source": [
    "### Major Holders"
   ]
  },
  {
   "cell_type": "code",
   "execution_count": null,
   "id": "c82b4090-9d9c-46f9-b61e-978bf528b9b3",
   "metadata": {},
   "outputs": [],
   "source": [
    "df_stat_mh = df_stat.major_holders"
   ]
  },
  {
   "cell_type": "markdown",
   "id": "dfd1ec1c-6dca-4e88-9909-da3140df2d67",
   "metadata": {},
   "source": [
    "#### Export Major Holders"
   ]
  },
  {
   "cell_type": "code",
   "execution_count": null,
   "id": "05ac8f17-272d-4167-a1a5-75a2f3b5161e",
   "metadata": {},
   "outputs": [],
   "source": [
    "df_stat_mh.to_csv(f\"csv/{cft}-major_holders-{c_datetime}.csv\")"
   ]
  },
  {
   "cell_type": "markdown",
   "id": "b633fb04-9546-4884-a19f-b91f18b330ab",
   "metadata": {},
   "source": [
    "### Institutional Holders"
   ]
  },
  {
   "cell_type": "code",
   "execution_count": null,
   "id": "89091e7d-f022-4db3-85cf-b432a9688c59",
   "metadata": {},
   "outputs": [],
   "source": [
    "df_stat_ih = df_stat.institutional_holders"
   ]
  },
  {
   "cell_type": "markdown",
   "id": "ad670e32-ae21-4a33-bca9-41610788170c",
   "metadata": {},
   "source": [
    "#### Export Institutional Holders"
   ]
  },
  {
   "cell_type": "code",
   "execution_count": null,
   "id": "e1c6941a-7328-497c-ab8b-2dd8d83c96ac",
   "metadata": {},
   "outputs": [],
   "source": [
    "df_stat_ih.to_csv(f\"csv/{cft}-instituional_holders-{c_datetime}.csv\")"
   ]
  },
  {
   "cell_type": "markdown",
   "id": "cbb6254c-55e7-4690-b6c1-7f332668064a",
   "metadata": {},
   "source": [
    "### Mutual Fund Holders"
   ]
  },
  {
   "cell_type": "code",
   "execution_count": null,
   "id": "bdf81ac8-5b9b-47b2-aaf8-162440b14739",
   "metadata": {},
   "outputs": [],
   "source": [
    "df_stat_mfh = df_stat.mutualfund_holders"
   ]
  },
  {
   "cell_type": "markdown",
   "id": "dc3439a8-8a59-4a03-a621-d3d30b1af56b",
   "metadata": {},
   "source": [
    "#### Export Mutual Fund Holders"
   ]
  },
  {
   "cell_type": "code",
   "execution_count": null,
   "id": "8466799f-9cbd-4c92-a53a-12dc358a809b",
   "metadata": {},
   "outputs": [],
   "source": [
    "df_stat_mfh.to_csv(f\"csv/{cft}-mutualfund_holders-{c_datetime}.csv\")"
   ]
  },
  {
   "cell_type": "markdown",
   "id": "a244d02b-3356-445c-8803-a8367608557f",
   "metadata": {},
   "source": [
    "### Top Holdings - Funds"
   ]
  },
  {
   "cell_type": "code",
   "execution_count": null,
   "id": "d4d564bb-f1e5-422a-9310-157dfc8ec641",
   "metadata": {},
   "outputs": [],
   "source": [
    "df_stat_th = df_stat_f.top_holdings"
   ]
  },
  {
   "cell_type": "markdown",
   "id": "53d9c723-2b0c-4a42-95b1-9182e585883b",
   "metadata": {},
   "source": [
    "#### Export Top Holding - Funds"
   ]
  },
  {
   "cell_type": "code",
   "execution_count": null,
   "id": "ba508ed6-bd99-49d4-a441-a9f8d147df4a",
   "metadata": {},
   "outputs": [],
   "source": [
    "df_stat_th.to_csv(f\"csv/{cft}-top_holdings-funds-{c_datetime}.csv\")"
   ]
  },
  {
   "cell_type": "markdown",
   "id": "fcc8c1ec-02de-4151-a33f-ba7002f5cc6b",
   "metadata": {},
   "source": [
    "## /src/yfinance_fetcher.py"
   ]
  },
  {
   "cell_type": "code",
   "execution_count": null,
   "id": "3768c0bf-4bab-4c9a-afb1-f94b0214e2af",
   "metadata": {},
   "outputs": [],
   "source": [
    "!/usr/bin/env python3\n",
    "# -*- coding: utf-8 -*-\n",
    "\n",
    "import os\n",
    "import pandas as pd\n",
    "import yfinance as yf\n",
    "\n",
    "# =============================================================================\n",
    "# Constants\n",
    "# =============================================================================\n",
    "symbols = 'AAPL', 'AMZN', 'GOOGL', 'META', 'MSFT', 'NVDA', 'TSLA'\n",
    "period = '1d'\n",
    "interval = '1h'\n",
    "\n",
    "# =============================================================================\n",
    "# Timestamp\n",
    "# =============================================================================\n",
    "c_datetime = pd.to_datetime('today')\n",
    "c_date = c_datetime.date()\n",
    "\n",
    "# =============================================================================\n",
    "# Make csv directory if it does not exist.\n",
    "# =============================================================================\n",
    "if not os.path.isdir(\"csv\"):\n",
    "    os.makedirs(\"csv\")\n",
    "\n",
    "# =============================================================================\n",
    "# Filter variable so filesystem friendly, i.e. no spaces and commas.\n",
    "# ft = \"friendly tickers\"\n",
    "# =============================================================================\n",
    "ft = '-'.join(symbols)\n",
    "\n",
    "# =============================================================================\n",
    "# OHLC + Volumme Price Data\n",
    "# =============================================================================\n",
    "df_index = yf.download(f\"{symbols}\", group_by='ticker',\n",
    "                       period=f\"{period}\", interval=f\"{interval}\",\n",
    "                       rounding=True)\n",
    "\n",
    "# =============================================================================\n",
    "# Alternative Fetch by date range instead of the above offset.\n",
    "# S_DATE = '2000-01-01'\n",
    "# E_DATE = '2025-01-01'\n",
    "#\n",
    "# ds_df_index = yf.download(yf_fetcher, group_by='ticker', start=f\"{S_DATE}\",\n",
    "#                           end=f\"{E_DATE}\", rounding=True)\n",
    "# =============================================================================\n",
    "\n",
    "# =============================================================================\n",
    "# Export DataFrame to .csv and make file name string\n",
    "# =============================================================================\n",
    "ft = '-'.join(symbols)\n",
    "df_index.to_csv(\n",
    "    f\"csv/{ft}_INDEX_{period}_{interval}_from_{c_datetime}.csv\")\n",
    "\n",
    "# =============================================================================\n",
    "# A Collection Of Financial fetches.\n",
    "# =============================================================================\n",
    "# =============================================================================\n",
    "# Single Ticker Variables And Constants\n",
    "# =============================================================================\n",
    "f_symbols = 'SPY'\n",
    "s_symbols = 'TSLA'\n",
    "\n",
    "df_stat_f = yf.Ticker(f\"{f_symbols}\")\n",
    "df_stat = yf.Ticker(f\"{s_symbols}\")\n",
    "\n",
    "# =============================================================================\n",
    "# Multiple Ticker Variables And Constants\n",
    "# =============================================================================\n",
    "# =============================================================================\n",
    "# f_symbols = 'SPY', 'VTI'\n",
    "# s_symbols = 'TSLA', 'AAPL'\n",
    "#\n",
    "# df_stat_f = yf.Tickers(f\"{f_symbols}\")\n",
    "# df_stat = yf.Tickers(f\"{s_symbols}\")\n",
    "# =============================================================================\n",
    "\n",
    "# =============================================================================\n",
    "# Clean tickers to be file name friendly\n",
    "# =============================================================================\n",
    "cfft = '-'.join(f_symbols)\n",
    "cft = '-'.join(s_symbols)\n",
    "\n",
    "# =============================================================================\n",
    "# Info\n",
    "# =============================================================================\n",
    "df_stat_i = df_stat.info\n",
    "df_stat_i.to_csv(f\"csv/{cft}-info-{c_datetime}.csv\")\n",
    "\n",
    "# =============================================================================\n",
    "# ISIN (International Securities Identification Number)\n",
    "# =============================================================================\n",
    "df_stat_isin = df_stat.isin\n",
    "df_stat_isin.to_csv(f\"csv/{cft}-isin-{c_datetime}.csv\")\n",
    "\n",
    "# =============================================================================\n",
    "# Analyst Price Targets\n",
    "# =============================================================================\n",
    "df_stat_apt = df_stat.analyst_price_targets\n",
    "df_stat_apt.to_csv(f\"csv/{cft}-analyst_price_targets-{c_datetime}.csv\")\n",
    "\n",
    "# =============================================================================\n",
    "# Calendar\n",
    "# =============================================================================\n",
    "df_stat_cal = df_stat.calendar\n",
    "df_stat_cal.to_csv(f\"csv/{cft}-cal-{c_datetime}.csv\")\n",
    "\n",
    "# =============================================================================\n",
    "# Financials\n",
    "# =============================================================================\n",
    "df_stat_fin = df_stat.financials\n",
    "df_stat_fin.to_csv(f\"csv/{cft}-financials-{c_datetime}.csv\")\n",
    "\n",
    "# =============================================================================\n",
    "# Balance Sheet\n",
    "# =============================================================================\n",
    "df_stat_bs = df_stat.balance_sheet\n",
    "df_stat_bs.to_csv(f\"csv/{cft}-balance_sheet-{c_datetime}.csv\")\n",
    "\n",
    "# =============================================================================\n",
    "# Income Statement\n",
    "# =============================================================================\n",
    "df_stat_stmt = df_stat.income_stmt\n",
    "df_stat_stmt.to_csv(f\"csv/{cft}-income_statement-{c_datetime}.csv\")\n",
    "\n",
    "# =============================================================================\n",
    "# Cash Flow\n",
    "# =============================================================================\n",
    "df_stat_cf = df_stat.cash_flow\n",
    "df_stat_cf.to_csv(f\"csv/{cft}-cash_flow-{c_datetime}.csv\")\n",
    "\n",
    "# =============================================================================\n",
    "# EPS Revisions\n",
    "# =============================================================================\n",
    "df_stat_e_rv = df_stat.eps_revisions\n",
    "df_stat_e_rv.to_csv(f\"csv/{cft}-eps_revisions-{c_datetime}.csv\")\n",
    "\n",
    "# =============================================================================\n",
    "# EPS Trend\n",
    "# =============================================================================\n",
    "df_stat_et = df_stat.eps_trend\n",
    "df_stat_et.to_csv(f\"csv/{cft}-eps_trend-{c_datetime}.csv\")\n",
    "\n",
    "# =============================================================================\n",
    "# SEC Filings\n",
    "# =============================================================================\n",
    "df_stat_sf = df_stat.sec_filings\n",
    "df_stat_sf.to_csv(f\"csv/{cft}-sec_filings-{c_datetime}.csv\")\n",
    "\n",
    "# =============================================================================\n",
    "# Insider Transactions\n",
    "# =============================================================================\n",
    "df_stat_ins_t = df_stat.insider_transactions\n",
    "df_stat_ins_t.to_csv(f\"csv/{cft}-insider_transactions-{c_datetime}.csv\")\n",
    "\n",
    "# =============================================================================\n",
    "# Insider Roster Holders\n",
    "# =============================================================================\n",
    "df_stat_rh = df_stat.insider_roster_holders\n",
    "df_stat_rh.to_csv(f\"csv/{cft}-inside_roster_holders-{c_datetime}.csv\")\n",
    "\n",
    "# =============================================================================\n",
    "# Insider Pruchases\n",
    "# =============================================================================\n",
    "df_stat_ins_p = df_stat.insider_purchases\n",
    "df_stat_ins_p.to_csv(f\"csv/{cft}-insider_purchases-{c_datetime}.csv\")\n",
    "\n",
    "# =============================================================================\n",
    "# Major Holders\n",
    "# =============================================================================\n",
    "df_stat_mh = df_stat.major_holders\n",
    "df_stat_mh.to_csv(f\"csv/{cft}-major_holders-{c_datetime}.csv\")\n",
    "\n",
    "# =============================================================================\n",
    "# Institutional Holders\n",
    "# =============================================================================\n",
    "df_stat_ih = df_stat.institutional_holders\n",
    "df_stat_ih.to_csv(f\"csv/{cft}-instituional_holders-{c_datetime}.csv\")\n",
    "\n",
    "# =============================================================================\n",
    "# Mutual Fund Holders\n",
    "# =============================================================================\n",
    "df_stat_mfh = df_stat.mutualfund_holders\n",
    "df_stat_mfh.to_csv(f\"csv/{cft}-mutualfund_holders-{c_datetime}.csv\")\n",
    "\n",
    "# =============================================================================\n",
    "# Top Holdings -Funds\n",
    "# =============================================================================\n",
    "df_stat_th = df_stat_f.top_holdings\n",
    "df_stat_th.to_csv(f\"csv/{cfft}-top_holdings-funds-{c_datetime}.csv\")\n"
   ]
  }
 ],
 "metadata": {
  "kernelspec": {
   "display_name": "Python 3 (ipykernel)",
   "language": "python",
   "name": "python3"
  },
  "language_info": {
   "codemirror_mode": {
    "name": "ipython",
    "version": 3
   },
   "file_extension": ".py",
   "mimetype": "text/x-python",
   "name": "python",
   "nbconvert_exporter": "python",
   "pygments_lexer": "ipython3",
   "version": "3.12.2"
  },
  "widgets": {
   "application/vnd.jupyter.widget-state+json": {
    "state": {},
    "version_major": 2,
    "version_minor": 0
   }
  }
 },
 "nbformat": 4,
 "nbformat_minor": 5
}
