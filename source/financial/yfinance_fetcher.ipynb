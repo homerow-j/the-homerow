{
 "cells": [
  {
   "cell_type": "markdown",
   "id": "63177298-41e3-4868-8e19-b7d71c4f78a6",
   "metadata": {},
   "source": [
    "# yfinance Fetcher Version 2.2\n",
    "\n",
    "_A simple notebook for fetching market data from `yfinance`, simply._\n",
    "\n"
   ]
  },
  {
   "cell_type": "markdown",
   "id": "b8ed664b-78b8-4950-85e1-6ee36c75ec12",
   "metadata": {},
   "source": [
    "## Initialization\n",
    "This is needed by the _Offset Fetch_, _Date Range Fetch_ and _A Collection of Financial Fetches_ while also making sure there is a `csv` directory to export _.csv_ files into. The `Ticker` input below is for both the _Offset_ and _Date Range_ fetches."
   ]
  },
  {
   "cell_type": "code",
   "execution_count": null,
   "id": "23b51a09-922b-4da7-8aee-4c78e1171c3e",
   "metadata": {},
   "outputs": [],
   "source": [
    "import os\n",
    "import pandas as pd\n",
    "import yfinance as yf\n",
    "\n",
    "# =============================================================================\n",
    "# Timestamp\n",
    "# =============================================================================\n",
    "c_datetime = pd.to_datetime('today')\n",
    "c_date = c_datetime.date()\n",
    "\n",
    "# =============================================================================\n",
    "# Make csv dir to store exports if it does not exist\n",
    "# =============================================================================\n",
    "if not os.path.isdir(\"csv\"):\n",
    "    os.makedirs(\"csv\")"
   ]
  },
  {
   "cell_type": "markdown",
   "id": "d9fd3932-ca7d-49dc-878f-39b23aeb4be4",
   "metadata": {},
   "source": [
    "## Offset And Date Range Fetches"
   ]
  },
  {
   "cell_type": "markdown",
   "id": "95bac3ad-3d24-41d9-b13d-2ca21dac033a",
   "metadata": {},
   "source": [
    "#### Scratch"
   ]
  },
  {
   "cell_type": "markdown",
   "id": "d6b2d930-147e-4397-be23-086ba805ec46",
   "metadata": {
    "editable": true,
    "slideshow": {
     "slide_type": ""
    },
    "tags": []
   },
   "source": [
    "I use this to assemble ticker lists."
   ]
  },
  {
   "cell_type": "markdown",
   "id": "4f123a87-d037-46dc-bcc9-d705d46c88ee",
   "metadata": {},
   "source": [
    "#### Tickers\n",
    "Note: the tickers have to be capitalized and each ticker seperated by a comma while a space is optional (i.e. `AAPL, GOOG, META, MSFT, NVDA, TSLA`)."
   ]
  },
  {
   "cell_type": "code",
   "execution_count": null,
   "id": "21379e0c-5c12-4136-9420-30a35c571e5a",
   "metadata": {},
   "outputs": [],
   "source": [
    "symbols = str(input(\"Ticker(s): \"))"
   ]
  },
  {
   "cell_type": "markdown",
   "id": "315a730d-889e-4014-937f-e8c1f08669ed",
   "metadata": {},
   "source": [
    "### Period And Interval Input For The _Offset Fetch_"
   ]
  },
  {
   "cell_type": "markdown",
   "id": "2e091b53-2dae-4546-ac9b-323b4c84c75a",
   "metadata": {},
   "source": [
    "#### Period\n",
    "\n",
    "Accepted values are: `1d`, `5d`, `1mo`, `3mo`, `6mo`, `1y`, `2y`, `5y`, `10y`, `ytd`, `max_`."
   ]
  },
  {
   "cell_type": "code",
   "execution_count": null,
   "id": "2e460a8f-2ec9-43df-967b-7d7562819513",
   "metadata": {},
   "outputs": [],
   "source": [
    "period = str(input(\"Time Period: \"))"
   ]
  },
  {
   "cell_type": "markdown",
   "id": "fc0e5c6a-fa50-4890-817c-6bc1c4ac5e13",
   "metadata": {},
   "source": [
    "#### Interval\n",
    "Accepted values are: `1m`, `2m`, `5m`, `15m`, `30m`, `60m`, `90m`, `1h`, `1d`, `5d`, `1wk`, `1mo`, `3mo_`. _Intraday data cannot extend past the last 60 days_."
   ]
  },
  {
   "cell_type": "code",
   "execution_count": null,
   "id": "983aa55a-ff29-424b-9220-519cdab3cd99",
   "metadata": {},
   "outputs": [],
   "source": [
    "interval = str(input(\"Interval: \"))"
   ]
  },
  {
   "cell_type": "markdown",
   "id": "5b01f671-1ebb-4013-9803-ee96788ff711",
   "metadata": {},
   "source": [
    "### Date Input For The _Date Range_\n",
    "The start and end dates have to be in ISO format. January, 30, 2025 becomes 2025-01-30 (_YY-MM-DD_)."
   ]
  },
  {
   "cell_type": "markdown",
   "id": "f2aff93c-4205-4362-8680-536b41ffb6c0",
   "metadata": {},
   "source": [
    "#### Start Date"
   ]
  },
  {
   "cell_type": "code",
   "execution_count": null,
   "id": "81e5d0bd-4f65-453d-b13f-29c5ba87f26a",
   "metadata": {},
   "outputs": [],
   "source": [
    "s_date = (input((\"Start Date: \")))"
   ]
  },
  {
   "cell_type": "markdown",
   "id": "ec96380c-c2cd-47e7-a98f-d4a41cf1befd",
   "metadata": {},
   "source": [
    "#### End Date"
   ]
  },
  {
   "cell_type": "code",
   "execution_count": null,
   "id": "0f7e36cd-3967-4509-842f-6b7d197f5c93",
   "metadata": {},
   "outputs": [],
   "source": [
    "e_date = (input(\"End Date: \"))"
   ]
  },
  {
   "cell_type": "markdown",
   "id": "74da8f9e-f297-4e8f-9f36-ea2b3923ac47",
   "metadata": {},
   "source": [
    "### Fetches"
   ]
  },
  {
   "cell_type": "markdown",
   "id": "b5daea09-b6a8-4ebd-a4ba-a7ae7f8e2c7f",
   "metadata": {},
   "source": [
    "#### Offset Fetch"
   ]
  },
  {
   "cell_type": "code",
   "execution_count": null,
   "id": "852ad0cb-6a3a-4dcf-ab3a-7c41fdcc300f",
   "metadata": {},
   "outputs": [],
   "source": [
    "ds_df_index = yf.download(f\"{symbols}\", group_by='ticker',\n",
    "                          period=f\"{period}\", interval=f\"{interval}\",\n",
    "                          rounding=True)\n",
    "\n",
    "symbols = symbols.replace(', ', '_')\n",
    "\n",
    "ds_df_index.to_csv(\n",
    "    f\"csv/{symbols}_{period}_period_with_{interval}_interval_at_{c_date}.csv\")"
   ]
  },
  {
   "cell_type": "markdown",
   "id": "4189a177-2732-4332-b7dc-846757162f26",
   "metadata": {},
   "source": [
    "#### Date Range Fetch"
   ]
  },
  {
   "cell_type": "code",
   "execution_count": null,
   "id": "cf38caa8-fca8-49df-9bd4-0cc650a03654",
   "metadata": {},
   "outputs": [],
   "source": [
    "ds_df_index = yf.download(f\"{symbols}\", group_by='ticker', start=f\"{s_date}\", \n",
    "                          end=f\"{e_date}\", rounding=True)\n",
    "\n",
    "symbols = symbols.replace(', ', '_')\n",
    "\n",
    "ds_df_index.to_csv(\n",
    "    f\"csv/{symbols}_from_{s_date}_to_{e_date}_at_{c_date}.csv\")"
   ]
  },
  {
   "cell_type": "markdown",
   "id": "3b13d9d2-ca90-4a29-99a7-24767f868b8f",
   "metadata": {},
   "source": [
    "## A Collection of Financial Fetches"
   ]
  },
  {
   "cell_type": "markdown",
   "id": "69ea6c9f-e7f2-4cae-8eb4-ca22b30681e8",
   "metadata": {},
   "source": [
    "### Single Ticker"
   ]
  },
  {
   "cell_type": "markdown",
   "id": "7422076d-3bc7-42f3-ab3f-f9c0741ac148",
   "metadata": {},
   "source": [
    "#### Single Ticker Input"
   ]
  },
  {
   "cell_type": "code",
   "execution_count": null,
   "id": "14958b65-bc98-486a-a263-015db7e2efff",
   "metadata": {},
   "outputs": [],
   "source": [
    "s_symbol = (str(input(\"Single Ticker: \")))"
   ]
  },
  {
   "cell_type": "markdown",
   "id": "97142cc7-20e3-4ddb-a05b-7fef37bb5d09",
   "metadata": {},
   "source": [
    "#### Single Funds Ticker Input"
   ]
  },
  {
   "cell_type": "code",
   "execution_count": null,
   "id": "54a05ae0-7871-4926-9861-349ac11bdc66",
   "metadata": {},
   "outputs": [],
   "source": [
    "f_symbol = (str(input(\"Single Funds Ticker: \")))"
   ]
  },
  {
   "cell_type": "markdown",
   "id": "d0f1d33d-7dd8-4f60-8229-6591694fe6c3",
   "metadata": {},
   "source": [
    "#### Single Ticker Fetch"
   ]
  },
  {
   "cell_type": "code",
   "execution_count": null,
   "id": "c2390f98-45a8-4ea8-a7da-934639d140e0",
   "metadata": {},
   "outputs": [],
   "source": [
    "df_stat_f = yf.Ticker(f\"{f_symbols}\")\n",
    "df_stat = yf.Ticker(f\"{s_symbol}\")"
   ]
  },
  {
   "cell_type": "markdown",
   "id": "50756b7c-34bb-42b5-a1e8-4c230f39c2e0",
   "metadata": {},
   "source": [
    "### Multiple Ticker"
   ]
  },
  {
   "cell_type": "markdown",
   "id": "c9379998-8caa-4092-b302-8c8f9195756d",
   "metadata": {},
   "source": [
    "\n",
    "#### Multiple Tickers Input"
   ]
  },
  {
   "cell_type": "code",
   "execution_count": null,
   "id": "57db9886-6312-45ce-9c48-f0ee3d1b0d2d",
   "metadata": {},
   "outputs": [],
   "source": [
    "s_symbols = (str(input(\"Multiple Tickers: \")))"
   ]
  },
  {
   "cell_type": "markdown",
   "id": "98f3d2d0-f93e-4dca-a4e3-3f082e0723ac",
   "metadata": {},
   "source": [
    "#### Multiple Funds Input"
   ]
  },
  {
   "cell_type": "code",
   "execution_count": null,
   "id": "704ccf03-e06a-4ac1-bcee-29a500602f13",
   "metadata": {},
   "outputs": [],
   "source": [
    "f_symbols = (str(input(\"Multiple Fund Tickers: \")))"
   ]
  },
  {
   "cell_type": "markdown",
   "id": "1c6490b5-1881-4aaa-b5bf-b21cefe2f6b1",
   "metadata": {},
   "source": [
    "#### Ticker Fetch"
   ]
  },
  {
   "cell_type": "code",
   "execution_count": null,
   "id": "0974612c-de8e-4c1e-a3fd-70b805a68eb2",
   "metadata": {},
   "outputs": [],
   "source": [
    "df_stat_f = yf.Tickers(f\"{f_symbols}\")\n",
    "df_stat = yf.Tickers(f\"{s_symbol}\")"
   ]
  },
  {
   "cell_type": "markdown",
   "id": "7618d935-2df9-4d59-94e5-b73f0afabe02",
   "metadata": {
    "editable": true,
    "slideshow": {
     "slide_type": ""
    },
    "tags": []
   },
   "source": [
    "#### Clean Tickers To Be File Name Friendly"
   ]
  },
  {
   "cell_type": "code",
   "execution_count": null,
   "id": "40a9eab2-5a23-458d-85b1-fe4b5f383011",
   "metadata": {},
   "outputs": [],
   "source": [
    "f_symbols = f_symbols.replace(', ', '_')\n",
    "cft = s_symbol.replace(', ', '_')"
   ]
  },
  {
   "cell_type": "markdown",
   "id": "bbe26654-e96c-4588-9ae8-9aa0ff57d546",
   "metadata": {},
   "source": [
    "### Info"
   ]
  },
  {
   "cell_type": "code",
   "execution_count": null,
   "id": "0d18a043-fa66-4bec-81d0-23c8bf13eb53",
   "metadata": {},
   "outputs": [],
   "source": [
    "df_stat_i = df_stat.info\n",
    "df_stat_i.to_csv(f\"csv/{s_symbol}-info-{c_date}.csv\")"
   ]
  },
  {
   "cell_type": "markdown",
   "id": "fe3e9f53-4db5-4253-a701-60d3b54fe837",
   "metadata": {},
   "source": [
    "### ISIN (International Securities Identification Number)"
   ]
  },
  {
   "cell_type": "code",
   "execution_count": null,
   "id": "7afec6b0-252d-4c4f-9266-6accf93e5e85",
   "metadata": {},
   "outputs": [],
   "source": [
    "df_stat_isin = df_stat.isin\n",
    "df_stat_isin.to_csv(f\"csv/{s_symbol}-isin-{c_date}.csv\")"
   ]
  },
  {
   "cell_type": "markdown",
   "id": "e401c43c-f5b0-4ad2-a3b2-6e775385ce83",
   "metadata": {},
   "source": [
    "### Analyst Price Targets"
   ]
  },
  {
   "cell_type": "code",
   "execution_count": null,
   "id": "43ff4369-a073-453e-93ad-8c7ee6643db0",
   "metadata": {},
   "outputs": [],
   "source": [
    "df_stat_apt = df_stat.analyst_price_targets\n",
    "df_stat_apt.to_csv(f\"csv/{s_symbol}-analyst_price_targets-{c_date}.csv\")"
   ]
  },
  {
   "cell_type": "markdown",
   "id": "4b2ef473-9537-491a-8caa-2fcf358938ac",
   "metadata": {},
   "source": [
    "### Calendar"
   ]
  },
  {
   "cell_type": "code",
   "execution_count": null,
   "id": "1ca3740e-d3ef-41f0-aca9-b155eb8cb21f",
   "metadata": {},
   "outputs": [],
   "source": [
    "df_stat_cal = df_stat.calendar\n",
    "df_stat_cal.to_csv(f\"csv/{s_symbol}-cal-{c_date}.csv\")"
   ]
  },
  {
   "cell_type": "markdown",
   "id": "31bec8a2-c34f-42de-bf7f-b2d16d19bde8",
   "metadata": {},
   "source": [
    "### Financials"
   ]
  },
  {
   "cell_type": "code",
   "execution_count": null,
   "id": "d4e7f04e-bdd2-4f3a-9300-9edd43d81e76",
   "metadata": {},
   "outputs": [],
   "source": [
    "df_stat_fin = df_stat.financials\n",
    "df_stat_fin.to_csv(f\"csv/{s_symbol}-financials-{c_date}.csv\")"
   ]
  },
  {
   "cell_type": "markdown",
   "id": "89b9912e-37b1-4ce7-862f-0d1b394782f3",
   "metadata": {},
   "source": [
    "### Balance Sheet"
   ]
  },
  {
   "cell_type": "code",
   "execution_count": null,
   "id": "da33a52e-41c0-4ffd-8a2c-dfcd2b8f25e6",
   "metadata": {},
   "outputs": [],
   "source": [
    "df_stat_bs = df_stat.balance_sheet\n",
    "df_stat_bs.to_csv(f\"csv/{s_symbol}-balance_sheet-{c_date}.csv\")"
   ]
  },
  {
   "cell_type": "markdown",
   "id": "00c5b0d8-c375-4e4d-8375-d04028ed156d",
   "metadata": {},
   "source": [
    "### Income Statement"
   ]
  },
  {
   "cell_type": "code",
   "execution_count": null,
   "id": "6a8af2d9-c43f-4637-9a23-1a1c49252c6e",
   "metadata": {},
   "outputs": [],
   "source": [
    "df_stat_stmt = df_stat.income_stmt\n",
    "df_stat_stmt.to_csv(f\"csv/{s_symbol}-income_statement-{c_date}.csv\")"
   ]
  },
  {
   "cell_type": "markdown",
   "id": "b7dbfad7-a583-45d9-a9f9-e7b16dfee342",
   "metadata": {},
   "source": [
    "### Cash Flow"
   ]
  },
  {
   "cell_type": "code",
   "execution_count": null,
   "id": "e4ef2da1-92e5-4c37-8bdb-0b7d7024ee41",
   "metadata": {},
   "outputs": [],
   "source": [
    "df_stat_cf = df_stat.cash_flow\n",
    "df_stat_cf.to_csv(f\"csv/{s_symbol}-cash_flow-{c_date}.csv\")"
   ]
  },
  {
   "cell_type": "markdown",
   "id": "6cd09143-80a2-496f-85a9-a5785a23cb5f",
   "metadata": {},
   "source": [
    "### EPS Revisions"
   ]
  },
  {
   "cell_type": "code",
   "execution_count": null,
   "id": "5bd6ad7b-a62f-404d-a7ce-42a93dd66e6d",
   "metadata": {},
   "outputs": [],
   "source": [
    "df_stat_e_rv = df_stat.eps_revisions\n",
    "df_stat_e_rv.to_csv(f\"csv/{s_symbol}-eps_revisions-{c_date}.csv\")"
   ]
  },
  {
   "cell_type": "markdown",
   "id": "97d30234-9aa4-4dad-9d1c-8783eeedb149",
   "metadata": {},
   "source": [
    "### EPS Trend"
   ]
  },
  {
   "cell_type": "code",
   "execution_count": null,
   "id": "c12ac81e-0ea4-4ce4-a8ad-7a5b043782d3",
   "metadata": {},
   "outputs": [],
   "source": [
    "df_stat_et = df_stat.eps_trend\n",
    "df_stat_et.to_csv(f\"csv/{s_symbol}-eps_trend-{c_date}.csv\")"
   ]
  },
  {
   "cell_type": "markdown",
   "id": "0bc7ad08-e70b-4d00-98ff-57ae66c4468d",
   "metadata": {},
   "source": [
    "### SEC Filings"
   ]
  },
  {
   "cell_type": "code",
   "execution_count": null,
   "id": "c538c6b4-b468-4852-8893-88cde2e4110e",
   "metadata": {},
   "outputs": [],
   "source": [
    "df_stat_sf = df_stat.sec_filings\n",
    "df_stat_sf.to_csv(f\"csv/{s_symbol}-sec_filings-{c_date}.csv\")"
   ]
  },
  {
   "cell_type": "markdown",
   "id": "476db2aa-9a41-49e5-a1f1-bb3f4fc109c9",
   "metadata": {},
   "source": [
    "### Insider Transactions"
   ]
  },
  {
   "cell_type": "code",
   "execution_count": null,
   "id": "37d1a20d-c51c-426c-b276-0d9b02d6328c",
   "metadata": {},
   "outputs": [],
   "source": [
    "df_stat_ins_t = df_stat.insider_transactions\n",
    "df_stat_ins_t.to_csv(f\"csv/{s_symbol}-insider_transactions-{c_date}.csv\")"
   ]
  },
  {
   "cell_type": "markdown",
   "id": "59266c25-2210-48ed-a619-60a4df3e921d",
   "metadata": {},
   "source": [
    "### Insider Roster Holders"
   ]
  },
  {
   "cell_type": "code",
   "execution_count": null,
   "id": "3c2e4a0d-1421-4e43-872d-d744c2abcbc3",
   "metadata": {},
   "outputs": [],
   "source": [
    "df_stat_irh = df_stat.insider_roster_holders\n",
    "df_stat_rh.to_csv(f\"csv/{s_symbol}-inside_roster_holders-{c_date}.csv\")"
   ]
  },
  {
   "cell_type": "markdown",
   "id": "291b0a09-8e7c-40e3-bd2c-1ad34abbf97a",
   "metadata": {},
   "source": [
    "### Insider Purchases"
   ]
  },
  {
   "cell_type": "code",
   "execution_count": null,
   "id": "cc21ab45-55e5-4028-8c3e-f79d7dc2439b",
   "metadata": {},
   "outputs": [],
   "source": [
    "df_stat_ins_p = df_stat.insider_purchases\n",
    "df_stat_ins_p.to_csv(f\"csv/{s_symbol}-insider_purchases-{c_date}.csv\")"
   ]
  },
  {
   "cell_type": "markdown",
   "id": "aeae5310-a3ba-4098-9a33-d14ce3708306",
   "metadata": {},
   "source": [
    "### Major Holders"
   ]
  },
  {
   "cell_type": "code",
   "execution_count": null,
   "id": "607ef33c-7c2d-4099-9096-8674656ece33",
   "metadata": {},
   "outputs": [],
   "source": [
    "df_stat_mh = df_stat.major_holders\n",
    "df_stat_mh.to_csv(f\"csv/{s_symbol}-major_holders-{c_date}.csv\")"
   ]
  },
  {
   "cell_type": "markdown",
   "id": "b633fb04-9546-4884-a19f-b91f18b330ab",
   "metadata": {},
   "source": [
    "### Institutional Holders"
   ]
  },
  {
   "cell_type": "code",
   "execution_count": null,
   "id": "91daa170-95f1-49fa-88fb-485f1b21f074",
   "metadata": {},
   "outputs": [],
   "source": [
    "df_stat_ih = df_stat.institutional_holders\n",
    "df_stat_ih.to_csv(f\"csv/{s_symbol}-instituional_holders-{c_date}.csv\")"
   ]
  },
  {
   "cell_type": "markdown",
   "id": "cbb6254c-55e7-4690-b6c1-7f332668064a",
   "metadata": {},
   "source": [
    "### Mutual Fund Holders"
   ]
  },
  {
   "cell_type": "code",
   "execution_count": null,
   "id": "cbef279a-3e24-46bd-9830-5f1abdd35bac",
   "metadata": {},
   "outputs": [],
   "source": [
    "df_stat_mfh = df_stat.mutualfund_holders\n",
    "df_stat_mfh.to_csv(f\"csv/{s_symbol}-mutualfund_holders-{c_date}.csv\")"
   ]
  },
  {
   "cell_type": "markdown",
   "id": "a244d02b-3356-445c-8803-a8367608557f",
   "metadata": {},
   "source": [
    "### Top Holdings - Funds"
   ]
  },
  {
   "cell_type": "code",
   "execution_count": null,
   "id": "188ff1d0-f104-4821-8173-efbfa15328b8",
   "metadata": {},
   "outputs": [],
   "source": [
    "df_stat_th = df_stat_f.top_holdings\n",
    "df_stat_th.to_csv(f\"csv/{f_symbols}-top_holdings-funds-{c_date}.csv\")"
   ]
  }
 ],
 "metadata": {
  "kernelspec": {
   "display_name": "Python 3 (ipykernel)",
   "language": "python",
   "name": "python3"
  },
  "language_info": {
   "codemirror_mode": {
    "name": "ipython",
    "version": 3
   },
   "file_extension": ".py",
   "mimetype": "text/x-python",
   "name": "python",
   "nbconvert_exporter": "python",
   "pygments_lexer": "ipython3",
   "version": "3.12.10"
  },
  "widgets": {
   "application/vnd.jupyter.widget-state+json": {
    "state": {},
    "version_major": 2,
    "version_minor": 0
   }
  }
 },
 "nbformat": 4,
 "nbformat_minor": 5
}
